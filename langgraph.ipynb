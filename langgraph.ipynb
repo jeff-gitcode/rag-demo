{
 "cells": [
  {
   "cell_type": "code",
   "execution_count": 1,
   "id": "16fbac47",
   "metadata": {},
   "outputs": [],
   "source": [
    "# node1 takes an input string and concatenates with another string and returns\n",
    "def node1(str):\n",
    "  return str + \" I reached Node1.\""
   ]
  },
  {
   "cell_type": "code",
   "execution_count": 3,
   "id": "c1bea195",
   "metadata": {},
   "outputs": [],
   "source": [
    "# node2 takes an input string and concatenates with another string and returns\n",
    "def node2(str):\n",
    "  return str + \" And now at Node2.\""
   ]
  },
  {
   "cell_type": "code",
   "execution_count": 13,
   "id": "a3e699d4",
   "metadata": {},
   "outputs": [
    {
     "name": "stdout",
     "output_type": "stream",
     "text": [
      "Starting workflow.Starting workflow. I reached Node1.Starting workflow.Starting workflow. I reached Node1. And now at Node2.\n"
     ]
    }
   ],
   "source": [
    "# Install langgraph\n",
    "# %pip install langgraph\n",
    "\n",
    "from langgraph.graph import StateGraph\n",
    "from typing_extensions import TypedDict\n",
    "from typing import Annotated\n",
    "import operator\n",
    "\n",
    "# Define the state schema\n",
    "class GraphState(TypedDict):\n",
    "    message: Annotated[str, operator.add]\n",
    "\n",
    "# node1 takes an input state and returns updated state\n",
    "def node1(state: GraphState) -> GraphState:\n",
    "    return {\"message\": state[\"message\"] + \" I reached Node1.\"}\n",
    "\n",
    "# node2 takes an input state and returns updated state  \n",
    "def node2(state: GraphState) -> GraphState:\n",
    "    return {\"message\": state[\"message\"] + \" And now at Node2.\"}\n",
    "\n",
    "# Create a new Graph with state schema\n",
    "workflow = StateGraph(GraphState)\n",
    "\n",
    "# Add the nodes\n",
    "workflow.add_node(\"node_1\", node1)\n",
    "workflow.add_node(\"node_2\", node2)\n",
    "\n",
    "# Add the edges\n",
    "workflow.add_edge(\"node_1\", \"node_2\")\n",
    "workflow.set_entry_point(\"node_1\")\n",
    "workflow.set_finish_point(\"node_2\")\n",
    "\n",
    "# Compile the workflow\n",
    "app = workflow.compile()\n",
    "\n",
    "# Test the workflow\n",
    "initial_state = {\"message\": \"Starting workflow.\"}\n",
    "result = app.invoke(initial_state)\n",
    "print(result[\"message\"])"
   ]
  }
 ],
 "metadata": {
  "kernelspec": {
   "display_name": "Python 3",
   "language": "python",
   "name": "python3"
  },
  "language_info": {
   "codemirror_mode": {
    "name": "ipython",
    "version": 3
   },
   "file_extension": ".py",
   "mimetype": "text/x-python",
   "name": "python",
   "nbconvert_exporter": "python",
   "pygments_lexer": "ipython3",
   "version": "3.13.2"
  }
 },
 "nbformat": 4,
 "nbformat_minor": 5
}
