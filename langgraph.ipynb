{
 "cells": [
  {
   "cell_type": "code",
   "execution_count": 29,
   "id": "d96a6feb",
   "metadata": {},
   "outputs": [],
   "source": [
    "from typing_extensions import TypedDict\n",
    "from typing import Annotated\n",
    "import operator\n",
    "\n",
    "# Define the state schema\n",
    "class GraphState(TypedDict):\n",
    "    message: Annotated[str, operator.add]\n"
   ]
  },
  {
   "cell_type": "code",
   "execution_count": 30,
   "id": "16fbac47",
   "metadata": {},
   "outputs": [],
   "source": [
    "# node1 takes an input string and concatenates with another string and returns\n",
    "# node1 takes an input state and returns updated state\n",
    "def node1(state: GraphState) -> GraphState:\n",
    "    return {\"message\": state[\"message\"] + \" I reached Node1.\"}\n"
   ]
  },
  {
   "cell_type": "code",
   "execution_count": 31,
   "id": "c1bea195",
   "metadata": {},
   "outputs": [],
   "source": [
    "# node2 takes an input string and concatenates with another string and returns\n",
    "# node2 takes an input state and returns updated state  \n",
    "def node2(state: GraphState) -> GraphState:\n",
    "    return {\"message\": state[\"message\"] + \" And now at Node2.\"}\n"
   ]
  },
  {
   "cell_type": "code",
   "execution_count": 32,
   "id": "a3e699d4",
   "metadata": {},
   "outputs": [
    {
     "name": "stdout",
     "output_type": "stream",
     "text": [
      "Starting workflow.Starting workflow. I reached Node1.Starting workflow.Starting workflow. I reached Node1. And now at Node2.\n"
     ]
    }
   ],
   "source": [
    "# Install langgraph\n",
    "# %pip install langgraph\n",
    "\n",
    "from langgraph.graph import StateGraph\n",
    "\n",
    "# Create a new Graph with state schema\n",
    "workflow = StateGraph(GraphState)\n",
    "\n",
    "# Add the nodes\n",
    "workflow.add_node(\"node_1\", node1)\n",
    "workflow.add_node(\"node_2\", node2)\n",
    "\n",
    "# Add the edges\n",
    "workflow.add_edge(\"node_1\", \"node_2\")\n",
    "workflow.set_entry_point(\"node_1\")\n",
    "workflow.set_finish_point(\"node_2\")\n",
    "\n",
    "# Compile the workflow\n",
    "app = workflow.compile()\n",
    "\n",
    "# Test the workflow\n",
    "initial_state = {\"message\": \"Starting workflow.\"}\n",
    "result = app.invoke(initial_state)\n",
    "print(result[\"message\"])"
   ]
  },
  {
   "cell_type": "code",
   "execution_count": 33,
   "id": "6a379b5c",
   "metadata": {},
   "outputs": [
    {
     "data": {
      "image/png": "[encoded data removed]",
      "text/plain": [
       "<IPython.core.display.Image object>"
      ]
     },
     "metadata": {},
     "output_type": "display_data"
    }
   ],
   "source": [
    "# Visualize your graph\n",
    "from IPython.display import Image, display\n",
    "display(Image(app.get_graph().draw_mermaid_png()))"
   ]
  },
  {
   "cell_type": "code",
   "execution_count": 34,
   "id": "0b0c210d",
   "metadata": {},
   "outputs": [
    {
     "data": {
      "text/plain": [
       "{'message': 'hellohello I reached Node1.hellohello I reached Node1. And now at Node2.'}"
      ]
     },
     "execution_count": 34,
     "metadata": {},
     "output_type": "execute_result"
    }
   ],
   "source": [
    "app.invoke({\"message\": \"hello\"})"
   ]
  }
 ],
 "metadata": {
  "kernelspec": {
   "display_name": "Python 3",
   "language": "python",
   "name": "python3"
  },
  "language_info": {
   "codemirror_mode": {
    "name": "ipython",
    "version": 3
   },
   "file_extension": ".py",
   "mimetype": "text/x-python",
   "name": "python",
   "nbconvert_exporter": "python",
   "pygments_lexer": "ipython3",
   "version": "3.13.2"
  }
 },
 "nbformat": 4,
 "nbformat_minor": 5
}
